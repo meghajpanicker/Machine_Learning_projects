{
 "cells": [
  {
   "cell_type": "code",
   "execution_count": 1,
   "metadata": {},
   "outputs": [],
   "source": [
    "from sklearn import datasets\n",
    "import pandas as pd\n",
    "import math  \n",
    "from collections import Counter"
   ]
  },
  {
   "cell_type": "code",
   "execution_count": 2,
   "metadata": {},
   "outputs": [],
   "source": [
    "iris = datasets.load_iris()"
   ]
  },
  {
   "cell_type": "code",
   "execution_count": 3,
   "metadata": {},
   "outputs": [],
   "source": [
    "df = pd.DataFrame(iris.data)\n",
    "df.columns = [\"sl\", \"sw\", 'pl', 'pw']"
   ]
  },
  {
   "cell_type": "code",
   "execution_count": 4,
   "metadata": {},
   "outputs": [],
   "source": [
    "#Function to find label for a value\n",
    "#if MIN_Value <=val < (m + Mean_Value) / 2 then it is assigned label a\n",
    "#if (m + Mean_Value) <=val < Mean_Value then it is assigned label b\n",
    "#if (Mean_Value) <=val < (Mean_Value + MAX_Value)/2 then it is assigned label c\n",
    "#if (Mean_Value + MAX_Value)/2 <=val <= MAX_Value  then it is assigned label d\n",
    "\n",
    "def label(val, *boundaries):\n",
    "    if (val < boundaries[0]):\n",
    "        return 'a'\n",
    "    elif (val < boundaries[1]):\n",
    "        return 'b'\n",
    "    elif (val < boundaries[2]):\n",
    "        return 'c'\n",
    "    else:\n",
    "        return 'd'\n",
    "\n",
    "#Function to convert a continuous data into labelled data\n",
    "#There are 4 lables  - a, b, c, d\n",
    "def toLabel(df, old_feature_name):\n",
    "    second = df[old_feature_name].mean()\n",
    "    minimum = df[old_feature_name].min()\n",
    "    first = (minimum + second)/2\n",
    "    maximum = df[old_feature_name].max()\n",
    "    third = (maximum + second)/2\n",
    "    return df[old_feature_name].apply(label, args= (first, second, third))"
   ]
  },
  {
   "cell_type": "code",
   "execution_count": 5,
   "metadata": {},
   "outputs": [],
   "source": [
    "#Convert all columns to labelled data\n",
    "df['sl_labeled'] = toLabel(df, 'sl')\n",
    "df['sw_labeled'] = toLabel(df, 'sw')\n",
    "df['pl_labeled'] = toLabel(df, 'pl')\n",
    "df['pw_labeled'] = toLabel(df, 'pw')\n"
   ]
  },
  {
   "cell_type": "code",
   "execution_count": 6,
   "metadata": {},
   "outputs": [],
   "source": [
    "df.drop(['sl', 'sw', 'pl', 'pw'], axis = 1, inplace = True)"
   ]
  },
  {
   "cell_type": "code",
   "execution_count": 7,
   "metadata": {},
   "outputs": [
    {
     "data": {
      "text/plain": [
       "Index(['sl_labeled', 'sw_labeled', 'pl_labeled', 'pw_labeled'], dtype='object')"
      ]
     },
     "execution_count": 7,
     "metadata": {},
     "output_type": "execute_result"
    }
   ],
   "source": [
    "df.columns"
   ]
  },
  {
   "cell_type": "code",
   "execution_count": 8,
   "metadata": {},
   "outputs": [
    {
     "data": {
      "text/plain": [
       "{'a', 'b', 'c', 'd'}"
      ]
     },
     "execution_count": 8,
     "metadata": {},
     "output_type": "execute_result"
    }
   ],
   "source": [
    "set(df['sl_labeled'])"
   ]
  },
  {
   "cell_type": "code",
   "execution_count": 9,
   "metadata": {},
   "outputs": [],
   "source": [
    "def entropy(y):\n",
    "    pro = 0\n",
    "    for i in set(y['class']): # iterating over the set values 0,1,2 in y\n",
    "        a1 = (y['class']==i)\n",
    "#         calculating probablity\n",
    "        pro += (len(y[a1])/len(y))*(math.log(len(y[a1])/len(y),2))\n",
    "    if pro==0:\n",
    "        return pro\n",
    "    else:\n",
    "        return (-1)*pro"
   ]
  },
  {
   "cell_type": "code",
   "execution_count": 11,
   "metadata": {},
   "outputs": [],
   "source": [
    "def build_tree(df, y, unused_features,level):\n",
    "    #base case\n",
    "    # 1.  pure node has reached(y has same value)   \n",
    "    if  len(set(y['class']))==1:\n",
    "    \n",
    "        print(\"reached leaf node\")\n",
    "        print(\"Entropy\",entropy(y))\n",
    "        print(\"\\n\")\n",
    "#   2. unused is empty   \n",
    "    elif len(unused_features) is 0:\n",
    "        print(\"reached leaf node\")\n",
    "        print(\"\\n\")\n",
    "        \n",
    "# otherwise find the best feature to split \n",
    "    else:\n",
    "        best_feature = \"\"\n",
    "        \n",
    "#         initially maximum gain is 0\n",
    "        max_gain_ratio=0 \n",
    "    \n",
    "    \n",
    "#         for each unused feature we calc gain \n",
    "        for f in unused_features:\n",
    "        \n",
    "#     possible values in any one feature\n",
    "            possible_values=set(df[f])\n",
    "    \n",
    "#     initially maximum entropy is 0\n",
    "            max_entropy=0\n",
    "            split=0\n",
    "#         possible values are a,b,c,d\n",
    "            for val in possible_values:\n",
    "                a = (df[f]==val)\n",
    "                max_entropy =len(y[a])/(len(df[f]))\n",
    "                split+=(len(df[a])/len(df[f]))*(math.log(len(df[a])/(len(df[f])),2))\n",
    "            split*=(-1)  \n",
    "            \n",
    "    \n",
    "#     information gain =(entropy of parent node)-(entropy of current node)\n",
    "        \n",
    "        gain_info=entropy(y)-max_entropy\n",
    "        \n",
    "        gain_ratio=gain_info/split\n",
    "        \n",
    "#        selecting the feature with maximum gain ratio\n",
    "        if max_gain_ratio<gain_ratio:\n",
    "                max_gain_ratio=gain_ratio\n",
    "                best_feature=f\n",
    "         \n",
    "        \n",
    "        \n",
    "        \n",
    "        print(\"Level:\",level)\n",
    "        print(\"Current Entropy:\",entropy(y))\n",
    "        print(\"Best Feature: \", best_feature)\n",
    "        print(\"With gain ratio:\",max_gain_ratio)\n",
    "        print(\"Counts of:-\")\n",
    "        print(y['class'].value_counts())\n",
    "        \n",
    "        print(\"\")\n",
    "    \n",
    "# increasing level for next split     \n",
    "        level+=1\n",
    "        \n",
    "#     removing the best feature from unused_features    \n",
    "#     iterating over all the possible values in best_feature\n",
    "#     recursive calling of build_tree\n",
    "        \n",
    "        unused_features.remove(best_feature)\n",
    "        for j in set(df[best_feature]):\n",
    "            att=df[best_feature]==j\n",
    "            \n",
    "            build_tree(df[att],y[att],unused_features,level)"
   ]
  },
  {
   "cell_type": "code",
   "execution_count": 12,
   "metadata": {
    "scrolled": true
   },
   "outputs": [
    {
     "name": "stdout",
     "output_type": "stream",
     "text": [
      "Level: 0\n",
      "Current Entropy: 1.584962500721156\n",
      "Best Feature:  pw_labeled\n",
      "With gain ratio: 0.6713244339170225\n",
      "Counts of:-\n",
      "2    50\n",
      "1    50\n",
      "0    50\n",
      "Name: class, dtype: int64\n",
      "\n",
      "reached leaf node\n",
      "Entropy 0.0\n",
      "\n",
      "\n",
      "reached leaf node\n",
      "Entropy 0.0\n",
      "\n",
      "\n",
      "reached leaf node\n",
      "Entropy 0.0\n",
      "\n",
      "\n",
      "Level: 1\n",
      "Current Entropy: 0.863120568566631\n",
      "Best Feature:  sl_labeled\n",
      "With gain ratio: 0.1766801418792336\n",
      "Counts of:-\n",
      "1    40\n",
      "2    16\n",
      "Name: class, dtype: int64\n",
      "\n",
      "Level: 2\n",
      "Current Entropy: 0.9709505944546686\n",
      "Best Feature:  sw_labeled\n",
      "With gain ratio: 0.3820488875265707\n",
      "Counts of:-\n",
      "2    3\n",
      "1    2\n",
      "Name: class, dtype: int64\n",
      "\n",
      "reached leaf node\n",
      "Entropy 0.0\n",
      "\n",
      "\n",
      "Level: 3\n",
      "Current Entropy: 0.9182958340544896\n",
      "Best Feature:  pl_labeled\n",
      "With gain ratio: 0.274017542121281\n",
      "Counts of:-\n",
      "1    2\n",
      "2    1\n",
      "Name: class, dtype: int64\n",
      "\n",
      "reached leaf node\n",
      "Entropy 0.0\n",
      "\n",
      "\n",
      "reached leaf node\n",
      "Entropy 0.0\n",
      "\n",
      "\n",
      "reached leaf node\n",
      "Entropy 0.0\n",
      "\n",
      "\n",
      "reached leaf node\n",
      "Entropy 0.0\n",
      "\n",
      "\n",
      "reached leaf node\n",
      "\n",
      "\n"
     ]
    }
   ],
   "source": [
    "y = pd.DataFrame(iris.target)\n",
    "# naming the y column as class \n",
    "y.columns = [\"class\"]\n",
    "unused_features = set(df.columns)\n",
    "# initially level is 0\n",
    "level=0\n",
    "build_tree(df,y,unused_features,level)"
   ]
  },
  {
   "cell_type": "code",
   "execution_count": null,
   "metadata": {},
   "outputs": [],
   "source": []
  },
  {
   "cell_type": "code",
   "execution_count": null,
   "metadata": {},
   "outputs": [],
   "source": []
  }
 ],
 "metadata": {
  "kernelspec": {
   "display_name": "Python 3",
   "language": "python",
   "name": "python3"
  },
  "language_info": {
   "codemirror_mode": {
    "name": "ipython",
    "version": 3
   },
   "file_extension": ".py",
   "mimetype": "text/x-python",
   "name": "python",
   "nbconvert_exporter": "python",
   "pygments_lexer": "ipython3",
   "version": "3.7.3"
  }
 },
 "nbformat": 4,
 "nbformat_minor": 1
}
